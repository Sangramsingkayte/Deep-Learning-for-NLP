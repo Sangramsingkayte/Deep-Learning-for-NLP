{
 "cells": [
  {
   "cell_type": "code",
   "execution_count": 1,
   "metadata": {},
   "outputs": [
    {
     "name": "stdout",
     "output_type": "stream",
     "text": [
      "Python 3.7.3\r\n"
     ]
    }
   ],
   "source": [
    "!python --version\n",
    "__author__ = \"bsangramsing@gmail.com\""
   ]
  },
  {
   "cell_type": "markdown",
   "metadata": {},
   "source": [
    "# Spell Correction"
   ]
  },
  {
   "cell_type": "code",
   "execution_count": 2,
   "metadata": {},
   "outputs": [
    {
     "name": "stdout",
     "output_type": "stream",
     "text": [
      "Requirement already satisfied: fuzzywuzzy[speedup] in /Users/sangram/anaconda3/lib/python3.7/site-packages (0.17.0)\r\n",
      "Requirement already satisfied: python-levenshtein>=0.12; extra == \"speedup\" in /Users/sangram/anaconda3/lib/python3.7/site-packages (from fuzzywuzzy[speedup]) (0.12.0)\r\n",
      "Requirement already satisfied: setuptools in /Users/sangram/anaconda3/lib/python3.7/site-packages (from python-levenshtein>=0.12; extra == \"speedup\"->fuzzywuzzy[speedup]) (40.8.0)\r\n"
     ]
    }
   ],
   "source": [
    "import sys\n",
    "# !{sys.executable} -m pip install fuzzywuzzy\n",
    "# alternative for 4-10x faster computation: \n",
    "!{sys.executable} -m pip install fuzzywuzzy[speedup]"
   ]
  },
  {
   "cell_type": "code",
   "execution_count": 3,
   "metadata": {},
   "outputs": [],
   "source": [
    "from fuzzywuzzy import fuzz"
   ]
  },
  {
   "cell_type": "code",
   "execution_count": 4,
   "metadata": {},
   "outputs": [
    {
     "data": {
      "text/plain": [
       "81"
      ]
     },
     "execution_count": 4,
     "metadata": {},
     "output_type": "execute_result"
    }
   ],
   "source": [
    "fuzz.ratio(\"Electronic City Phase One\", \"Electronic City Phase One, Aurangabad\")"
   ]
  },
  {
   "cell_type": "code",
   "execution_count": 5,
   "metadata": {},
   "outputs": [
    {
     "data": {
      "text/plain": [
       "100"
      ]
     },
     "execution_count": 5,
     "metadata": {},
     "output_type": "execute_result"
    }
   ],
   "source": [
    "fuzz.partial_ratio(\"Electronic City Phase One\", \"Electronic City Phase One, Aurangabad\")"
   ]
  },
  {
   "cell_type": "code",
   "execution_count": 6,
   "metadata": {},
   "outputs": [
    {
     "data": {
      "text/plain": [
       "90"
      ]
     },
     "execution_count": 6,
     "metadata": {},
     "output_type": "execute_result"
    }
   ],
   "source": [
    "fuzz.ratio('Narendra Modi', 'Narendra D. Modi')"
   ]
  },
  {
   "cell_type": "code",
   "execution_count": 7,
   "metadata": {},
   "outputs": [
    {
     "data": {
      "text/plain": [
       "77"
      ]
     },
     "execution_count": 7,
     "metadata": {},
     "output_type": "execute_result"
    }
   ],
   "source": [
    "fuzz.partial_ratio('Narendra Modi', 'Narendra D. Modi')"
   ]
  },
  {
   "cell_type": "code",
   "execution_count": 8,
   "metadata": {},
   "outputs": [
    {
     "data": {
      "text/plain": [
       "93"
      ]
     },
     "execution_count": 8,
     "metadata": {},
     "output_type": "execute_result"
    }
   ],
   "source": [
    "fuzz.token_sort_ratio('Narendra Modi', 'Narendra D. Modi')"
   ]
  },
  {
   "cell_type": "code",
   "execution_count": 9,
   "metadata": {},
   "outputs": [
    {
     "data": {
      "text/plain": [
       "100"
      ]
     },
     "execution_count": 9,
     "metadata": {},
     "output_type": "execute_result"
    }
   ],
   "source": [
    "fuzz.token_set_ratio('Narendra Modi', 'Narendra D. Modi')"
   ]
  },
  {
   "cell_type": "code",
   "execution_count": 10,
   "metadata": {},
   "outputs": [],
   "source": [
    "from fuzzywuzzy import process"
   ]
  },
  {
   "cell_type": "code",
   "execution_count": 11,
   "metadata": {},
   "outputs": [
    {
     "name": "stdout",
     "output_type": "stream",
     "text": [
      "[('Maharashtra', 100), ('Maharashtra Govt.', 95), ('Marathi', 56)]\n"
     ]
    },
    {
     "data": {
      "text/plain": [
       "('Maharashtra', 100)"
      ]
     },
     "execution_count": 11,
     "metadata": {},
     "output_type": "execute_result"
    }
   ],
   "source": [
    "query = 'Maharashtra'\n",
    "choices = ['Maharashtra', 'Marathi', 'Maharashtra Govt.']\n",
    "# Get a list of matches ordered by score, default limit to 5\n",
    "print(process.extract(query, choices))\n",
    "\n",
    "# If we want only the top one\n",
    "process.extractOne(query, choices)"
   ]
  },
  {
   "cell_type": "code",
   "execution_count": 12,
   "metadata": {},
   "outputs": [
    {
     "name": "stdout",
     "output_type": "stream",
     "text": [
      "[('Aurangabad', 100), ('Aurangabad', 100)]\n"
     ]
    },
    {
     "data": {
      "text/plain": [
       "('Aurangabad', 100)"
      ]
     },
     "execution_count": 12,
     "metadata": {},
     "output_type": "execute_result"
    }
   ],
   "source": [
    "query = 'Aurangabad'\n",
    "choices = ['Aurangabad', 'Aurangabad']\n",
    "print(process.extract(query, choices))\n",
    "process.extractOne(query, choices)"
   ]
  },
  {
   "cell_type": "code",
   "execution_count": 13,
   "metadata": {},
   "outputs": [
    {
     "name": "stdout",
     "output_type": "stream",
     "text": [
      "[('chilli', 91), ('chilling', 77), ('chilled', 67)]\n"
     ]
    },
    {
     "data": {
      "text/plain": [
       "('chilli', 91)"
      ]
     },
     "execution_count": 13,
     "metadata": {},
     "output_type": "execute_result"
    }
   ],
   "source": [
    "# Let's take an example of a common search typo in online shopping:\n",
    "query = 'chili'\n",
    "choices = ['chilli', 'chilled', 'chilling']\n",
    "print(process.extract(query, choices))\n",
    "process.extractOne(query, choices)"
   ]
  },
  {
   "cell_type": "markdown",
   "metadata": {},
   "source": [
    "## Jellyfish"
   ]
  },
  {
   "cell_type": "code",
   "execution_count": 14,
   "metadata": {},
   "outputs": [
    {
     "name": "stdout",
     "output_type": "stream",
     "text": [
      "Requirement already satisfied: jellyfish in /Users/sangram/anaconda3/lib/python3.7/site-packages (0.7.2)\r\n"
     ]
    }
   ],
   "source": [
    "import sys\n",
    "!{sys.executable} -m pip install jellyfish"
   ]
  },
  {
   "cell_type": "code",
   "execution_count": 26,
   "metadata": {},
   "outputs": [],
   "source": [
    "import jellyfish\n",
    "correct_example = ('Narendra Modi', 'Narendra Modi')\n",
    "damodardas_example = ('Narendra Modi', 'Narendra D. Modi')\n",
    "modi_typo_example = ('Narendra Modi', 'Narendar Modi')\n",
    "maharashtra_typo_example = ('Maharashtra', 'Marathi')\n",
    "\n",
    "examples = [correct_example, damodardas_example, modi_typo_example, maharashtra_typo_example]"
   ]
  },
  {
   "cell_type": "code",
   "execution_count": 27,
   "metadata": {},
   "outputs": [],
   "source": [
    "def calculate_distance(function, examples=examples):\n",
    "    for ele in examples:\n",
    "        print(f'{ele}: {function(*ele)}') "
   ]
  },
  {
   "cell_type": "code",
   "execution_count": 28,
   "metadata": {},
   "outputs": [
    {
     "name": "stdout",
     "output_type": "stream",
     "text": [
      "('Narendra Modi', 'Narendra Modi'): 0\n",
      "('Narendra Modi', 'Narendra D. Modi'): 3\n",
      "('Narendra Modi', 'Narendar Modi'): 2\n",
      "('Maharashtra', 'Marathi'): 6\n"
     ]
    }
   ],
   "source": [
    "calculate_distance(jellyfish.levenshtein_distance)"
   ]
  },
  {
   "cell_type": "code",
   "execution_count": 22,
   "metadata": {},
   "outputs": [
    {
     "name": "stdout",
     "output_type": "stream",
     "text": [
      "('Narendra Modi', 'Narendra Modi'): 0\n",
      "('Narendra Modi', 'Narendra D. Modi'): 3\n",
      "('Narendra Modi', 'Narendar Modi'): 1\n",
      "('Maharashtra', 'Marathi'): 6\n"
     ]
    }
   ],
   "source": [
    "calculate_distance(jellyfish.damerau_levenshtein_distance)"
   ]
  },
  {
   "cell_type": "code",
   "execution_count": 23,
   "metadata": {},
   "outputs": [
    {
     "name": "stdout",
     "output_type": "stream",
     "text": [
      "('Narendra Modi', 'Narendra Modi'): 0\n",
      "('Narendra Modi', 'Narendra D. Modi'): 7\n",
      "('Narendra Modi', 'Narendar Modi'): 2\n",
      "('Maharashtra', 'Marathi'): 8\n"
     ]
    }
   ],
   "source": [
    "calculate_distance(jellyfish.hamming_distance)"
   ]
  },
  {
   "cell_type": "code",
   "execution_count": 24,
   "metadata": {},
   "outputs": [
    {
     "name": "stdout",
     "output_type": "stream",
     "text": [
      "('Narendra Modi', 'Narendra Modi'): 1.0\n",
      "('Narendra Modi', 'Narendra D. Modi'): 0.9375\n",
      "('Narendra Modi', 'Narendar Modi'): 0.9743589743589745\n",
      "('Maharashtra', 'Marathi'): 0.7453102453102454\n"
     ]
    }
   ],
   "source": [
    "calculate_distance(jellyfish.jaro_distance) "
   ]
  },
  {
   "cell_type": "code",
   "execution_count": 25,
   "metadata": {},
   "outputs": [
    {
     "name": "stdout",
     "output_type": "stream",
     "text": [
      "('Narendra Modi', 'Narendra Modi'): 1.0\n",
      "('Narendra Modi', 'Narendra D. Modi'): 0.9625\n",
      "('Narendra Modi', 'Narendar Modi'): 0.9846153846153847\n",
      "('Maharashtra', 'Marathi'): 0.7962481962481963\n"
     ]
    }
   ],
   "source": [
    "calculate_distance(jellyfish.jaro_winkler)"
   ]
  },
  {
   "cell_type": "markdown",
   "metadata": {
    "collapsed": true
   },
   "source": [
    "### Phonetic Word Similarity\n",
    "\n",
    "#### What is a phonetic encoding?"
   ]
  },
  {
   "cell_type": "code",
   "execution_count": 29,
   "metadata": {},
   "outputs": [
    {
     "data": {
      "text/plain": [
       "'J412'"
      ]
     },
     "execution_count": 29,
     "metadata": {},
     "output_type": "execute_result"
    }
   ],
   "source": [
    "jellyfish.soundex('Jellyfish')"
   ]
  },
  {
   "cell_type": "code",
   "execution_count": 30,
   "metadata": {},
   "outputs": [
    {
     "data": {
      "text/plain": [
       "'JALYF'"
      ]
     },
     "execution_count": 30,
     "metadata": {},
     "output_type": "execute_result"
    }
   ],
   "source": [
    "jellyfish.nysiis('Jellyfish')"
   ]
  },
  {
   "cell_type": "code",
   "execution_count": 31,
   "metadata": {},
   "outputs": [
    {
     "data": {
      "text/plain": [
       "'JLFX'"
      ]
     },
     "execution_count": 31,
     "metadata": {},
     "output_type": "execute_result"
    }
   ],
   "source": [
    "jellyfish.metaphone('Jellyfish')"
   ]
  },
  {
   "cell_type": "code",
   "execution_count": 32,
   "metadata": {},
   "outputs": [
    {
     "data": {
      "text/plain": [
       "'JLLFSH'"
      ]
     },
     "execution_count": 32,
     "metadata": {},
     "output_type": "execute_result"
    }
   ],
   "source": [
    "jellyfish.match_rating_codex('Jellyfish')"
   ]
  },
  {
   "cell_type": "markdown",
   "metadata": {},
   "source": [
    "#### Metaphone + Levenshtein"
   ]
  },
  {
   "cell_type": "code",
   "execution_count": 33,
   "metadata": {},
   "outputs": [
    {
     "data": {
      "text/plain": [
       "0"
      ]
     },
     "execution_count": 33,
     "metadata": {},
     "output_type": "execute_result"
    }
   ],
   "source": [
    "jellyfish.levenshtein_distance(jellyfish.metaphone('write'), jellyfish.metaphone('right'))"
   ]
  },
  {
   "cell_type": "code",
   "execution_count": 34,
   "metadata": {},
   "outputs": [],
   "source": [
    "examples+= [('write', 'right'), ('Mangalore', 'Bangalore'), ('Delhi', 'Dilli')] # adding a few examples to show how cool this is"
   ]
  },
  {
   "cell_type": "code",
   "execution_count": 35,
   "metadata": {},
   "outputs": [
    {
     "name": "stdout",
     "output_type": "stream",
     "text": [
      "Word\t\tSound\t\tWord\t\t\tSound\t\tPhonetic Distance\n",
      "Narendra Modi\tNRNTR MT  \tNarendra Modi       \tNRNTR MT  \t0         \n",
      "Narendra Modi\tNRNTR MT  \tNarendra D. Modi    \tNRNTR T MT\t2         \n",
      "Narendra Modi\tNRNTR MT  \tNarendar Modi       \tNRNTR MT  \t0         \n",
      "Maharashtra\tMHRXTR    \tMarathi             \tMR0       \t4         \n",
      "write     \tRT        \tright               \tRT        \t0         \n",
      "Mangalore \tMNKLR     \tBangalore           \tBNKLR     \t1         \n",
      "Delhi     \tTLH       \tDilli               \tTL        \t1         \n"
     ]
    }
   ],
   "source": [
    "def calculate_phonetic_distance(phonetic_func, distance_func, examples=examples):\n",
    "    print(\"Word\\t\\tSound\\t\\tWord\\t\\t\\tSound\\t\\tPhonetic Distance\")\n",
    "    for ele in examples:\n",
    "        correct, typo = ele[0], ele[1]\n",
    "        phonetic_correct, phonetic_typo = phonetic_func(correct), phonetic_func(typo)\n",
    "        phonetic_distance = distance_func(phonetic_correct, phonetic_typo)\n",
    "        print(f'{correct:<10}\\t{phonetic_correct:<10}\\t{typo:<20}\\t{phonetic_typo:<10}\\t{phonetic_distance:<10}') \n",
    "        \n",
    "calculate_phonetic_distance(phonetic_func=jellyfish.metaphone, distance_func=jellyfish.levenshtein_distance)        "
   ]
  },
  {
   "cell_type": "markdown",
   "metadata": {},
   "source": [
    "#### American Soundex"
   ]
  },
  {
   "cell_type": "code",
   "execution_count": 36,
   "metadata": {},
   "outputs": [
    {
     "name": "stdout",
     "output_type": "stream",
     "text": [
      "Word\t\tSound\t\tWord\t\t\tSound\t\tPhonetic Distance\n",
      "Narendra Modi\tN653      \tNarendra Modi       \tN653      \t0         \n",
      "Narendra Modi\tN653      \tNarendra D. Modi    \tN653      \t0         \n",
      "Narendra Modi\tN653      \tNarendar Modi       \tN653      \t0         \n",
      "Maharashtra\tM623      \tMarathi             \tM630      \t2         \n",
      "write     \tW630      \tright               \tR230      \t2         \n",
      "Mangalore \tM524      \tBangalore           \tB524      \t1         \n",
      "Delhi     \tD400      \tDilli               \tD400      \t0         \n"
     ]
    }
   ],
   "source": [
    "calculate_phonetic_distance(phonetic_func=jellyfish.soundex, distance_func=jellyfish.levenshtein_distance)        "
   ]
  },
  {
   "cell_type": "markdown",
   "metadata": {},
   "source": [
    "## Updating the Original Corpus with FlashText"
   ]
  },
  {
   "cell_type": "code",
   "execution_count": 37,
   "metadata": {},
   "outputs": [
    {
     "name": "stdout",
     "output_type": "stream",
     "text": [
      "Collecting flashtext\n",
      "  Downloading https://files.pythonhosted.org/packages/81/d8/2cd0656eae456d615c2f1efbcae8dfca2cb871a31f34ba8925aba47d5e09/flashtext-2.7.tar.gz\n",
      "Building wheels for collected packages: flashtext\n",
      "  Building wheel for flashtext (setup.py) ... \u001b[?25ldone\n",
      "\u001b[?25h  Stored in directory: /Users/sangram/Library/Caches/pip/wheels/37/db/d7/fe74f7cb8e5c3afed90fe6f4967c933a6f13d81ab6b3d3128c\n",
      "Successfully built flashtext\n",
      "Installing collected packages: flashtext\n",
      "Successfully installed flashtext-2.7\n"
     ]
    }
   ],
   "source": [
    "import sys\n",
    "!{sys.executable} -m pip install flashtext"
   ]
  },
  {
   "cell_type": "code",
   "execution_count": 38,
   "metadata": {},
   "outputs": [
    {
     "data": {
      "text/plain": [
       "['NCR', 'Mumbai']"
      ]
     },
     "execution_count": 38,
     "metadata": {},
     "output_type": "execute_result"
    }
   ],
   "source": [
    "from flashtext.keyword import KeywordProcessor\n",
    "keyword_processor = KeywordProcessor()\n",
    "keyword_processor.add_keyword('Delhi', 'NCR') # notice we are adding tuples here\n",
    "keyword_processor.add_keyword('Bombay', 'Mumbai')\n",
    "keywords_found = keyword_processor.extract_keywords('I love the food in Delhi and the people in Bombay')\n",
    "keywords_found\n",
    "# ['NCR', 'Mumbai']"
   ]
  },
  {
   "cell_type": "markdown",
   "metadata": {},
   "source": [
    "How about we replace them now?"
   ]
  },
  {
   "cell_type": "code",
   "execution_count": 39,
   "metadata": {},
   "outputs": [
    {
     "data": {
      "text/plain": [
       "'I love the food in NCR and the people in Mumbai'"
      ]
     },
     "execution_count": 39,
     "metadata": {},
     "output_type": "execute_result"
    }
   ],
   "source": [
    "from flashtext.keyword import KeywordProcessor\n",
    "keyword_processor = KeywordProcessor()\n",
    "keyword_processor.add_keyword('Delhi', 'NCR')\n",
    "keyword_processor.add_keyword('Bombay', 'Mumbai')\n",
    "replaced_sentence = keyword_processor.replace_keywords('I love the food in Delhi and the people in Bombay')\n",
    "replaced_sentence\n",
    "# 'I love the food in NCR and the people in Mumbai'"
   ]
  },
  {
   "cell_type": "code",
   "execution_count": null,
   "metadata": {},
   "outputs": [],
   "source": []
  }
 ],
 "metadata": {
  "kernelspec": {
   "display_name": "Python 3",
   "language": "python",
   "name": "python3"
  },
  "language_info": {
   "codemirror_mode": {
    "name": "ipython",
    "version": 3
   },
   "file_extension": ".py",
   "mimetype": "text/x-python",
   "name": "python",
   "nbconvert_exporter": "python",
   "pygments_lexer": "ipython3",
   "version": "3.7.3"
  }
 },
 "nbformat": 4,
 "nbformat_minor": 2
}
